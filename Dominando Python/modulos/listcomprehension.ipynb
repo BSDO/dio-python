{
 "cells": [
  {
   "cell_type": "code",
   "execution_count": 2,
   "id": "72603796",
   "metadata": {},
   "outputs": [
    {
     "name": "stdout",
     "output_type": "stream",
     "text": [
      "[100, 150, 300, 5500]\n"
     ]
    }
   ],
   "source": [
    "\n",
    "# LIST COMPRREHENSION\n",
    "preco_produtos = [100,150,300,5500]\n",
    "produtos = ['vinho','cafeteira','microondas','iphone']\n",
    "print(preco_produtos)"
   ]
  },
  {
   "cell_type": "code",
   "execution_count": 4,
   "metadata": {},
   "outputs": [
    {
     "name": "stdout",
     "output_type": "stream",
     "text": [
      " : pre o[30.0, 45.0, 90.0, 1650.0]\n"
     ]
    },
    {
     "ename": "NameError",
     "evalue": "name 'preco' is not defined",
     "output_type": "error",
     "traceback": [
      "\u001b[1;31m---------------------------------------------------------------------------\u001b[0m",
      "\u001b[1;31mNameError\u001b[0m                                 Traceback (most recent call last)",
      "\u001b[1;32mc:\\xampp\\htdocs\\python\\Dominando Python\\modulos\\listcomprehension.ipynb Cell 2\u001b[0m line \u001b[0;36m5\n\u001b[0;32m      <a href='vscode-notebook-cell:/c%3A/xampp/htdocs/python/Dominando%20Python/modulos/listcomprehension.ipynb#W2sZmlsZQ%3D%3D?line=2'>3</a>\u001b[0m imposto \u001b[39m=\u001b[39m [preco \u001b[39m*\u001b[39m \u001b[39m0.3\u001b[39m \u001b[39mfor\u001b[39;00m preco \u001b[39min\u001b[39;00m preco_produtos]\n\u001b[0;32m      <a href='vscode-notebook-cell:/c%3A/xampp/htdocs/python/Dominando%20Python/modulos/listcomprehension.ipynb#W2sZmlsZQ%3D%3D?line=3'>4</a>\u001b[0m \u001b[39mprint\u001b[39m(\u001b[39mf\u001b[39m\u001b[39m\"\u001b[39m\u001b[39m : pre o\u001b[39m\u001b[39m{\u001b[39;00mimposto\u001b[39m}\u001b[39;00m\u001b[39m\"\u001b[39m)\n\u001b[1;32m----> <a href='vscode-notebook-cell:/c%3A/xampp/htdocs/python/Dominando%20Python/modulos/listcomprehension.ipynb#W2sZmlsZQ%3D%3D?line=4'>5</a>\u001b[0m \u001b[39mprint\u001b[39m(preco)\n",
      "\u001b[1;31mNameError\u001b[0m: name 'preco' is not defined"
     ]
    }
   ],
   "source": [
    "preco_produtos = [100,150,300,5500]\n",
    "\n",
    "imposto = [preco * 0.3 for preco in preco_produtos]\n",
    "print(f\" : pre o{imposto}\")\n",
    "print(preco)"
   ]
  }
 ],
 "metadata": {
  "kernelspec": {
   "display_name": "Python 3 (ipykernel)",
   "language": "python",
   "name": "python3"
  },
  "language_info": {
   "codemirror_mode": {
    "name": "ipython",
    "version": 3
   },
   "file_extension": ".py",
   "mimetype": "text/x-python",
   "name": "python",
   "nbconvert_exporter": "python",
   "pygments_lexer": "ipython3",
   "version": "3.11.5"
  }
 },
 "nbformat": 4,
 "nbformat_minor": 5
}
